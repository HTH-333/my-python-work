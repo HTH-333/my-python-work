{
 "cells": [
  {
   "cell_type": "code",
   "execution_count": 1,
   "metadata": {},
   "outputs": [],
   "source": [
    "%matplotlib inline\n",
    "\n",
    "import numpy as np\n",
    "import matplotlib.pyplot as plt\n",
    "import pandas as pd"
   ]
  },
  {
   "cell_type": "code",
   "execution_count": 7,
   "metadata": {},
   "outputs": [
    {
     "name": "stdout",
     "output_type": "stream",
     "text": [
      "請輸入國文成績>> 98\n",
      "請輸入英文成績>> 87\n",
      "請輸入數學成績>> 76\n",
      "請輸入社會成績>> 68\n",
      "請輸入自然成績>> 87\n",
      "總分：416\n",
      "加權後總分：639.0\n",
      "加權後平均：85.2\n"
     ]
    }
   ],
   "source": [
    "a = input(\"請輸入國文成績>> \")\n",
    "a = int(a)\n",
    "b = input(\"請輸入英文成績>> \")\n",
    "b = int(b)\n",
    "c = input(\"請輸入數學成績>> \")\n",
    "c = int(c)\n",
    "d = input(\"請輸入社會成績>> \")\n",
    "d = int(d)\n",
    "e = input(\"請輸入自然成績>> \")\n",
    "e = int(e)\n",
    "s = a + b + c + d + e\n",
    "grades = np.array([a, b, c, d, e])\n",
    "weights = np.array([2, 2, 1.5, 1, 1])\n",
    "g = np.dot(grades, weights)\n",
    "mean = g/7.5\n",
    "print(\"總分：{}\\n加權後總分：{}\\n加權後平均：{}\".format(s, g, mean))"
   ]
  },
  {
   "cell_type": "code",
   "execution_count": null,
   "metadata": {},
   "outputs": [],
   "source": []
  }
 ],
 "metadata": {
  "kernelspec": {
   "display_name": "Python 3",
   "language": "python",
   "name": "python3"
  },
  "language_info": {
   "codemirror_mode": {
    "name": "ipython",
    "version": 3
   },
   "file_extension": ".py",
   "mimetype": "text/x-python",
   "name": "python",
   "nbconvert_exporter": "python",
   "pygments_lexer": "ipython3",
   "version": "3.7.3"
  }
 },
 "nbformat": 4,
 "nbformat_minor": 2
}
