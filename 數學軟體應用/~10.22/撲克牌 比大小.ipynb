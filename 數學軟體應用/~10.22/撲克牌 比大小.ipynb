{
 "cells": [
  {
   "cell_type": "code",
   "execution_count": 1,
   "metadata": {},
   "outputs": [],
   "source": [
    "%matplotlib inline\n",
    "\n",
    "import numpy as np\n",
    "import matplotlib.pyplot as plt\n",
    "import pandas as pd"
   ]
  },
  {
   "cell_type": "code",
   "execution_count": 14,
   "metadata": {},
   "outputs": [],
   "source": [
    "class Card:\n",
    "    SUITS = [\"♣\", \"♦\", \"♥\", \"♠\"]\n",
    "    RANKS = ['3', '4', '5', '6', '7', '8', '9', '10', 'J', 'Q', 'K', 'A', '2']\n",
    "    \n",
    "    def __init__(self, s, r):\n",
    "        self.suit = s\n",
    "        self.rank = r\n",
    "        \n",
    "    def __repr__(self):\n",
    "        thecard = self.SUITS[self.suit] + self.RANKS[self.rank]\n",
    "        return thecard"
   ]
  },
  {
   "cell_type": "code",
   "execution_count": 15,
   "metadata": {},
   "outputs": [
    {
     "name": "stdout",
     "output_type": "stream",
     "text": [
      "請輸入玩家名稱>> hi\n",
      "請問要換牌嗎？ 不要請按0 要請按任意鍵\n",
      "1\n",
      "請問要換牌嗎？ 不要請按0 要請按任意鍵\n",
      "0\n",
      "電腦的牌>> ♦7\n",
      "hi的牌>> ♦2\n",
      "hi獲勝\n"
     ]
    }
   ],
   "source": [
    "a = np.random.randint(0, 4)\n",
    "b = np.random.randint(0, 13)\n",
    "card01 = Card(a, b)\n",
    "c = input(\"請輸入玩家名稱>> \")\n",
    "while True:\n",
    "    x = np.random.randint(0, 4)\n",
    "    y = np.random.randint(0, 13)\n",
    "    card02 = Card(x, y)\n",
    "    re = input(\"請問要換牌嗎？ 不要請按0 要請按任意鍵\\n\")\n",
    "    if re == \"0\":\n",
    "        break\n",
    "print(\"電腦的牌>> {}\\n{}的牌>> {}\".format(card01, c, card02))\n",
    "if x > a:\n",
    "    print(\"{}獲勝\".format(c))\n",
    "elif x == a:\n",
    "    if y > b:\n",
    "        print(\"{}獲勝\".format(c))\n",
    "    elif y == b:\n",
    "        print(\"平手\")\n",
    "else:\n",
    "    print(\"{}輸了\".format(c))"
   ]
  },
  {
   "cell_type": "code",
   "execution_count": null,
   "metadata": {},
   "outputs": [],
   "source": []
  }
 ],
 "metadata": {
  "kernelspec": {
   "display_name": "Python 3",
   "language": "python",
   "name": "python3"
  },
  "language_info": {
   "codemirror_mode": {
    "name": "ipython",
    "version": 3
   },
   "file_extension": ".py",
   "mimetype": "text/x-python",
   "name": "python",
   "nbconvert_exporter": "python",
   "pygments_lexer": "ipython3",
   "version": "3.7.3"
  }
 },
 "nbformat": 4,
 "nbformat_minor": 2
}
