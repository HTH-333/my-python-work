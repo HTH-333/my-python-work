{
 "cells": [
  {
   "cell_type": "code",
   "execution_count": 1,
   "metadata": {},
   "outputs": [],
   "source": [
    "%matplotlib inline\n",
    "\n",
    "import numpy as np\n",
    "import matplotlib.pyplot as plt\n",
    "import pandas as pd"
   ]
  },
  {
   "cell_type": "code",
   "execution_count": 2,
   "metadata": {},
   "outputs": [
    {
     "name": "stdout",
     "output_type": "stream",
     "text": [
      "請輸入你要運算的兩個數>> 1 1\n",
      "加請按1，減請按2，乘請按3，除請按4>> 1\n",
      "2.0\n",
      "請輸入你要運算的兩個數>> 1 1\n",
      "加請按1，減請按2，乘請按3，除請按4>> 2\n",
      "0.0\n",
      "請輸入你要運算的兩個數>> 2 3\n",
      "加請按1，減請按2，乘請按3，除請按4>> 3\n",
      "6.0\n",
      "請輸入你要運算的兩個數>> 6 2\n",
      "加請按1，減請按2，乘請按3，除請按4>> 4\n",
      "3.0\n",
      "請輸入你要運算的兩個數>> 1 1\n",
      "加請按1，減請按2，乘請按3，除請按4>> 9\n",
      "\n",
      "請輸入正確的指令!!\n",
      "請輸入你要運算的兩個數>> e\n",
      "感謝使用\n"
     ]
    }
   ],
   "source": [
    "while True:\n",
    "    a = input(\"請輸入你要運算的兩個數>> \")\n",
    "    if a == \"e\":\n",
    "        print(\"感謝使用\")\n",
    "        break\n",
    "    a = a.split()\n",
    "    i = float(a[0])\n",
    "    s = float(a[1])\n",
    "    b = input(\"加請按1，減請按2，乘請按3，除請按4>> \")\n",
    "    b = int(b)\n",
    "    if b == 1:\n",
    "        print(i + s)\n",
    "    elif b == 2:\n",
    "        print(i - s)\n",
    "    elif b == 3:\n",
    "        print(i * s)\n",
    "    elif b == 4:\n",
    "        print(i / s)\n",
    "    else:\n",
    "        print(\"\\n請輸入正確的指令!!\")"
   ]
  },
  {
   "cell_type": "code",
   "execution_count": null,
   "metadata": {},
   "outputs": [],
   "source": []
  }
 ],
 "metadata": {
  "kernelspec": {
   "display_name": "Python 3",
   "language": "python",
   "name": "python3"
  },
  "language_info": {
   "codemirror_mode": {
    "name": "ipython",
    "version": 3
   },
   "file_extension": ".py",
   "mimetype": "text/x-python",
   "name": "python",
   "nbconvert_exporter": "python",
   "pygments_lexer": "ipython3",
   "version": "3.7.3"
  }
 },
 "nbformat": 4,
 "nbformat_minor": 2
}
