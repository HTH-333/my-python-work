{
 "cells": [
  {
   "cell_type": "code",
   "execution_count": 1,
   "metadata": {},
   "outputs": [],
   "source": [
    "%matplotlib inline\n",
    "\n",
    "import numpy as np\n",
    "import matplotlib.pyplot as plt\n",
    "import pandas as pd"
   ]
  },
  {
   "cell_type": "code",
   "execution_count": 2,
   "metadata": {},
   "outputs": [],
   "source": [
    "from numpy.random import choice\n",
    "from numpy.random import randint"
   ]
  },
  {
   "cell_type": "code",
   "execution_count": 3,
   "metadata": {},
   "outputs": [],
   "source": [
    "words = '''你\n",
    "我\n",
    "走過\n",
    "留下\n",
    "喧囂\n",
    "雲煙\n",
    "風\n",
    "飄散\n",
    "你的\n",
    "我的\n",
    "心\n",
    "沉醉\n",
    "落下\n",
    "塵土\n",
    "灰燼\n",
    "溫柔\n",
    "日子\n",
    "天空\n",
    "清澈\n",
    "凋零\n",
    "他\n",
    "走過\n",
    "哭泣\n",
    "忘記\n",
    "相遇\n",
    "離別\n",
    "明月\n",
    "湖泊\n",
    "微光\n",
    "閃爍\n",
    "星辰\n",
    "帶走\n",
    "靈魂\n",
    "思念\n",
    "憂愁'''"
   ]
  },
  {
   "cell_type": "code",
   "execution_count": 4,
   "metadata": {},
   "outputs": [],
   "source": [
    "phrase = words.split(\"\\n\")"
   ]
  },
  {
   "cell_type": "code",
   "execution_count": 5,
   "metadata": {},
   "outputs": [
    {
     "name": "stdout",
     "output_type": "stream",
     "text": [
      "雲煙 閃爍 帶走\n",
      "思念 心 憂愁\n",
      "凋零 忘記 哭泣 灰燼\n",
      "哭泣 落下 帶走 我的 帶走\n",
      "留下 湖泊 溫柔 走過 憂愁\n",
      "靈魂 哭泣 思念 閃爍 星辰\n",
      "靈魂 落下 湖泊 哭泣\n"
     ]
    }
   ],
   "source": [
    "l = randint(5, 8)\n",
    "for i in range(l):\n",
    "    n = randint(3, 6)\n",
    "    s = choice(phrase, n)\n",
    "    S = \" \".join(s)\n",
    "    print(S)"
   ]
  },
  {
   "cell_type": "code",
   "execution_count": null,
   "metadata": {},
   "outputs": [],
   "source": []
  }
 ],
 "metadata": {
  "kernelspec": {
   "display_name": "Python 3",
   "language": "python",
   "name": "python3"
  },
  "language_info": {
   "codemirror_mode": {
    "name": "ipython",
    "version": 3
   },
   "file_extension": ".py",
   "mimetype": "text/x-python",
   "name": "python",
   "nbconvert_exporter": "python",
   "pygments_lexer": "ipython3",
   "version": "3.7.3"
  }
 },
 "nbformat": 4,
 "nbformat_minor": 2
}
