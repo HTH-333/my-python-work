{
 "cells": [
  {
   "cell_type": "code",
   "execution_count": 1,
   "metadata": {},
   "outputs": [],
   "source": [
    "%matplotlib inline\n",
    "\n",
    "import numpy as np\n",
    "import matplotlib.pyplot as plt\n",
    "import pandas as pd"
   ]
  },
  {
   "cell_type": "code",
   "execution_count": 2,
   "metadata": {},
   "outputs": [
    {
     "name": "stdout",
     "output_type": "stream",
     "text": [
      "請輸入你的成績：87, 86, 73, 93, 62, 33, 89, 83, 74, 67, 83, 72, 65, 40, 23, 59, 91, 72, 69\n",
      "全班人數：19 \n",
      "最高分為：93 \n",
      "最低分為：23 \n",
      "平均為：69 \n",
      "\n"
     ]
    }
   ],
   "source": [
    "x = input(\"請輸入你的成績：\")\n",
    "x = x.split(\", \")\n",
    "y = 0\n",
    "for i in x:\n",
    "    y += int(i)\n",
    "mean = int(y/len(x))\n",
    "print(\"全班人數：{} \\n最高分為：{} \\n最低分為：{} \\n平均為：{} \\n\".format(len(x), max(x), min(x), mean))"
   ]
  },
  {
   "cell_type": "code",
   "execution_count": null,
   "metadata": {},
   "outputs": [],
   "source": []
  }
 ],
 "metadata": {
  "kernelspec": {
   "display_name": "Python 3",
   "language": "python",
   "name": "python3"
  },
  "language_info": {
   "codemirror_mode": {
    "name": "ipython",
    "version": 3
   },
   "file_extension": ".py",
   "mimetype": "text/x-python",
   "name": "python",
   "nbconvert_exporter": "python",
   "pygments_lexer": "ipython3",
   "version": "3.7.3"
  }
 },
 "nbformat": 4,
 "nbformat_minor": 2
}
