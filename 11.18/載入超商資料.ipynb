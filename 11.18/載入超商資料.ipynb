{
 "cells": [
  {
   "cell_type": "code",
   "execution_count": 1,
   "metadata": {},
   "outputs": [],
   "source": [
    "%matplotlib inline\n",
    "\n",
    "import numpy as np\n",
    "import matplotlib.pyplot as plt\n",
    "import pandas as pd"
   ]
  },
  {
   "cell_type": "code",
   "execution_count": 3,
   "metadata": {},
   "outputs": [],
   "source": [
    "df = pd.read_csv(\"https://quality.data.gov.tw/dq_download_csv.php?nid=32086&md5_url=7339a804f8a2ddca126bfc7abdeb2a0e\")"
   ]
  },
  {
   "cell_type": "code",
   "execution_count": 4,
   "metadata": {},
   "outputs": [
    {
     "data": {
      "text/html": [
       "<div>\n",
       "<style scoped>\n",
       "    .dataframe tbody tr th:only-of-type {\n",
       "        vertical-align: middle;\n",
       "    }\n",
       "\n",
       "    .dataframe tbody tr th {\n",
       "        vertical-align: top;\n",
       "    }\n",
       "\n",
       "    .dataframe thead th {\n",
       "        text-align: right;\n",
       "    }\n",
       "</style>\n",
       "<table border=\"1\" class=\"dataframe\">\n",
       "  <thead>\n",
       "    <tr style=\"text-align: right;\">\n",
       "      <th></th>\n",
       "      <th>公司統一編號</th>\n",
       "      <th>公司名稱</th>\n",
       "      <th>分公司統一編號</th>\n",
       "      <th>分公司名稱</th>\n",
       "      <th>分公司地址</th>\n",
       "      <th>分公司狀態</th>\n",
       "    </tr>\n",
       "  </thead>\n",
       "  <tbody>\n",
       "    <tr>\n",
       "      <th>0</th>\n",
       "      <td>22555003</td>\n",
       "      <td>統一超商股份有限公司</td>\n",
       "      <td>1846195</td>\n",
       "      <td>台北市第一七０分公司</td>\n",
       "      <td>臺北市士林區文林路一六九號一樓</td>\n",
       "      <td>1</td>\n",
       "    </tr>\n",
       "    <tr>\n",
       "      <th>1</th>\n",
       "      <td>22555003</td>\n",
       "      <td>統一超商股份有限公司</td>\n",
       "      <td>16080140</td>\n",
       "      <td>台北巿第三四二分公司</td>\n",
       "      <td>臺北市松山區健康路224號１樓</td>\n",
       "      <td>1</td>\n",
       "    </tr>\n",
       "    <tr>\n",
       "      <th>2</th>\n",
       "      <td>22555003</td>\n",
       "      <td>統一超商股份有限公司</td>\n",
       "      <td>16080155</td>\n",
       "      <td>台北縣第２５５分公司</td>\n",
       "      <td>新北市三峽區永館里９鄰民生街１０２號１樓</td>\n",
       "      <td>3</td>\n",
       "    </tr>\n",
       "    <tr>\n",
       "      <th>3</th>\n",
       "      <td>22555003</td>\n",
       "      <td>統一超商股份有限公司</td>\n",
       "      <td>16080161</td>\n",
       "      <td>台北縣第２５６分公司</td>\n",
       "      <td>新北市三峽區鳶山里十二鄰中山路１８６號１樓</td>\n",
       "      <td>1</td>\n",
       "    </tr>\n",
       "    <tr>\n",
       "      <th>4</th>\n",
       "      <td>22555003</td>\n",
       "      <td>統一超商股份有限公司</td>\n",
       "      <td>16080177</td>\n",
       "      <td>新竹市第２６分公司</td>\n",
       "      <td>新竹市民富里７鄰北大路３４２號</td>\n",
       "      <td>1</td>\n",
       "    </tr>\n",
       "  </tbody>\n",
       "</table>\n",
       "</div>"
      ],
      "text/plain": [
       "     公司統一編號        公司名稱   分公司統一編號       分公司名稱                  分公司地址  分公司狀態\n",
       "0  22555003  統一超商股份有限公司   1846195  台北市第一七０分公司        臺北市士林區文林路一六九號一樓      1\n",
       "1  22555003  統一超商股份有限公司  16080140  台北巿第三四二分公司        臺北市松山區健康路224號１樓      1\n",
       "2  22555003  統一超商股份有限公司  16080155  台北縣第２５５分公司   新北市三峽區永館里９鄰民生街１０２號１樓      3\n",
       "3  22555003  統一超商股份有限公司  16080161  台北縣第２５６分公司  新北市三峽區鳶山里十二鄰中山路１８６號１樓      1\n",
       "4  22555003  統一超商股份有限公司  16080177   新竹市第２６分公司        新竹市民富里７鄰北大路３４２號      1"
      ]
     },
     "execution_count": 4,
     "metadata": {},
     "output_type": "execute_result"
    }
   ],
   "source": [
    "df.head()"
   ]
  },
  {
   "cell_type": "code",
   "execution_count": null,
   "metadata": {},
   "outputs": [],
   "source": []
  }
 ],
 "metadata": {
  "kernelspec": {
   "display_name": "Python 3",
   "language": "python",
   "name": "python3"
  },
  "language_info": {
   "codemirror_mode": {
    "name": "ipython",
    "version": 3
   },
   "file_extension": ".py",
   "mimetype": "text/x-python",
   "name": "python",
   "nbconvert_exporter": "python",
   "pygments_lexer": "ipython3",
   "version": "3.7.3"
  }
 },
 "nbformat": 4,
 "nbformat_minor": 2
}
