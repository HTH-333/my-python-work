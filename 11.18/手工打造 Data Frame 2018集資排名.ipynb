{
 "cells": [
  {
   "cell_type": "code",
   "execution_count": 1,
   "metadata": {},
   "outputs": [],
   "source": [
    "%matplotlib inline\n",
    "\n",
    "import numpy as np\n",
    "import matplotlib.pyplot as plt\n",
    "import pandas as pd"
   ]
  },
  {
   "cell_type": "code",
   "execution_count": 2,
   "metadata": {},
   "outputs": [],
   "source": [
    "data = np.array([\"柯文哲 teamKP 競選集資\", 40931360, 24338,\n",
    "                 \"Hiding 飲料杯\", 20205075, 16875,\n",
    "                 \"FNG寶特袋\", 18024364, 10537,\n",
    "                 \"WAYCUP!威客杯!\", 10920889, 6434,\n",
    "                 \"POIEMA 車用空氣淨化器\", 28640207, 6348,\n",
    "                 \"非常召集 | 平權公投廣告集資\", 10379789, 5334,\n",
    "                 \"我滿懷惡意的有病解謎\", 4652221, 5141,\n",
    "                 \"十二夜2:回到地零天\", 8884890, 4941]).reshape(8, 3)"
   ]
  },
  {
   "cell_type": "code",
   "execution_count": 3,
   "metadata": {},
   "outputs": [
    {
     "data": {
      "text/plain": [
       "array([['柯文哲 teamKP 競選集資', '40931360', '24338'],\n",
       "       ['Hiding 飲料杯', '20205075', '16875'],\n",
       "       ['FNG寶特袋', '18024364', '10537'],\n",
       "       ['WAYCUP!威客杯!', '10920889', '6434'],\n",
       "       ['POIEMA 車用空氣淨化器', '28640207', '6348'],\n",
       "       ['非常召集 | 平權公投廣告集資', '10379789', '5334'],\n",
       "       ['我滿懷惡意的有病解謎', '4652221', '5141'],\n",
       "       ['十二夜2:回到地零天', '8884890', '4941']], dtype='<U15')"
      ]
     },
     "execution_count": 3,
     "metadata": {},
     "output_type": "execute_result"
    }
   ],
   "source": [
    "data"
   ]
  },
  {
   "cell_type": "code",
   "execution_count": 4,
   "metadata": {},
   "outputs": [],
   "source": [
    "df1 = pd.DataFrame(data)"
   ]
  },
  {
   "cell_type": "code",
   "execution_count": 5,
   "metadata": {},
   "outputs": [],
   "source": [
    "df1.columns = [\"專案\", \"金額\", \"人次\"]\n",
    "df1.index = [\"第一 \", \"第二 \", \"第三 \", \"第四 \", \"第五 \", \"第六 \", \"第七 \", \"第八 \"]\n",
    "df1.index.name = \"集資人次排名\""
   ]
  },
  {
   "cell_type": "code",
   "execution_count": 6,
   "metadata": {},
   "outputs": [
    {
     "data": {
      "text/html": [
       "<div>\n",
       "<style scoped>\n",
       "    .dataframe tbody tr th:only-of-type {\n",
       "        vertical-align: middle;\n",
       "    }\n",
       "\n",
       "    .dataframe tbody tr th {\n",
       "        vertical-align: top;\n",
       "    }\n",
       "\n",
       "    .dataframe thead th {\n",
       "        text-align: right;\n",
       "    }\n",
       "</style>\n",
       "<table border=\"1\" class=\"dataframe\">\n",
       "  <thead>\n",
       "    <tr style=\"text-align: right;\">\n",
       "      <th></th>\n",
       "      <th>專案</th>\n",
       "      <th>金額</th>\n",
       "      <th>人次</th>\n",
       "    </tr>\n",
       "    <tr>\n",
       "      <th>集資人次排名</th>\n",
       "      <th></th>\n",
       "      <th></th>\n",
       "      <th></th>\n",
       "    </tr>\n",
       "  </thead>\n",
       "  <tbody>\n",
       "    <tr>\n",
       "      <th>第一</th>\n",
       "      <td>柯文哲 teamKP 競選集資</td>\n",
       "      <td>40931360</td>\n",
       "      <td>24338</td>\n",
       "    </tr>\n",
       "    <tr>\n",
       "      <th>第二</th>\n",
       "      <td>Hiding 飲料杯</td>\n",
       "      <td>20205075</td>\n",
       "      <td>16875</td>\n",
       "    </tr>\n",
       "    <tr>\n",
       "      <th>第三</th>\n",
       "      <td>FNG寶特袋</td>\n",
       "      <td>18024364</td>\n",
       "      <td>10537</td>\n",
       "    </tr>\n",
       "    <tr>\n",
       "      <th>第四</th>\n",
       "      <td>WAYCUP!威客杯!</td>\n",
       "      <td>10920889</td>\n",
       "      <td>6434</td>\n",
       "    </tr>\n",
       "    <tr>\n",
       "      <th>第五</th>\n",
       "      <td>POIEMA 車用空氣淨化器</td>\n",
       "      <td>28640207</td>\n",
       "      <td>6348</td>\n",
       "    </tr>\n",
       "    <tr>\n",
       "      <th>第六</th>\n",
       "      <td>非常召集 | 平權公投廣告集資</td>\n",
       "      <td>10379789</td>\n",
       "      <td>5334</td>\n",
       "    </tr>\n",
       "    <tr>\n",
       "      <th>第七</th>\n",
       "      <td>我滿懷惡意的有病解謎</td>\n",
       "      <td>4652221</td>\n",
       "      <td>5141</td>\n",
       "    </tr>\n",
       "    <tr>\n",
       "      <th>第八</th>\n",
       "      <td>十二夜2:回到地零天</td>\n",
       "      <td>8884890</td>\n",
       "      <td>4941</td>\n",
       "    </tr>\n",
       "  </tbody>\n",
       "</table>\n",
       "</div>"
      ],
      "text/plain": [
       "                     專案        金額     人次\n",
       "集資人次排名                                  \n",
       "第一      柯文哲 teamKP 競選集資  40931360  24338\n",
       "第二           Hiding 飲料杯  20205075  16875\n",
       "第三               FNG寶特袋  18024364  10537\n",
       "第四          WAYCUP!威客杯!  10920889   6434\n",
       "第五       POIEMA 車用空氣淨化器  28640207   6348\n",
       "第六      非常召集 | 平權公投廣告集資  10379789   5334\n",
       "第七           我滿懷惡意的有病解謎   4652221   5141\n",
       "第八           十二夜2:回到地零天   8884890   4941"
      ]
     },
     "execution_count": 6,
     "metadata": {},
     "output_type": "execute_result"
    }
   ],
   "source": [
    "df1"
   ]
  },
  {
   "cell_type": "code",
   "execution_count": null,
   "metadata": {},
   "outputs": [],
   "source": []
  }
 ],
 "metadata": {
  "kernelspec": {
   "display_name": "Python 3",
   "language": "python",
   "name": "python3"
  },
  "language_info": {
   "codemirror_mode": {
    "name": "ipython",
    "version": 3
   },
   "file_extension": ".py",
   "mimetype": "text/x-python",
   "name": "python",
   "nbconvert_exporter": "python",
   "pygments_lexer": "ipython3",
   "version": "3.7.3"
  }
 },
 "nbformat": 4,
 "nbformat_minor": 2
}
